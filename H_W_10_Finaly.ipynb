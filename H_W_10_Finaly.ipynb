{
  "nbformat": 4,
  "nbformat_minor": 0,
  "metadata": {
    "colab": {
      "provenance": [],
      "authorship_tag": "ABX9TyPUvIoKNYofN0kiGQc4blHA",
      "include_colab_link": true
    },
    "kernelspec": {
      "name": "python3",
      "display_name": "Python 3"
    },
    "language_info": {
      "name": "python"
    }
  },
  "cells": [
    {
      "cell_type": "markdown",
      "metadata": {
        "id": "view-in-github",
        "colab_type": "text"
      },
      "source": [
        "<a href=\"https://colab.research.google.com/github/Deniska122334/MATSTAT-Kravchenko-4593/blob/main/H_W_10_Finaly.ipynb\" target=\"_parent\"><img src=\"https://colab.research.google.com/assets/colab-badge.svg\" alt=\"Open In Colab\"/></a>"
      ]
    },
    {
      "cell_type": "code",
      "execution_count": 1,
      "metadata": {
        "id": "QJqWnSX7DKaS"
      },
      "outputs": [],
      "source": [
        "import numpy as np\n",
        "import pandas as pd\n",
        "from scipy import stats"
      ]
    },
    {
      "cell_type": "markdown",
      "source": [
        "Сформулируем нулевую гипотезу:  \n",
        "$H0 : \\mu_1=\\mu_2=\\mu_3$  т.е. средний рост спортсмена не зависит от вида спорта, которым он занимается(из представленных трех).  \n",
        "Альтернативная гипотеза:  \n",
        "$H1: \\mu_1\\neq\\mu_2\\neq\\mu_3$ т.е. средний рост спортсмена зависит от выбранного им спорта."
      ],
      "metadata": {
        "id": "IKj5WRbFai1d"
      }
    },
    {
      "cell_type": "code",
      "source": [
        "football=np.array([173, 175, 180, 178, 177, 185, 183, 182])\n",
        "hockey=np.array([177, 179, 180, 188, 177, 172, 171, 184, 180])\n",
        "weightlifting=np.array([172, 173, 169, 177, 166, 180, 178, 177, 172, 166, 170])"
      ],
      "metadata": {
        "id": "1_1ghw-WakAn"
      },
      "execution_count": 2,
      "outputs": []
    },
    {
      "cell_type": "markdown",
      "source": [
        "Воспользуемся встроенным методом однофакторного дисперсионного анализа библиотеки scipy:"
      ],
      "metadata": {
        "id": "vC3yzYZpao3o"
      }
    },
    {
      "cell_type": "code",
      "source": [
        "stats.f_oneway(football, hockey, weightlifting)"
      ],
      "metadata": {
        "colab": {
          "base_uri": "https://localhost:8080/"
        },
        "id": "YeGy40m1ap-N",
        "outputId": "af203ff2-ee39-4f37-c5b7-59e89d4ee8b0"
      },
      "execution_count": 3,
      "outputs": [
        {
          "output_type": "execute_result",
          "data": {
            "text/plain": [
              "F_onewayResult(statistic=5.500053450812596, pvalue=0.010482206918698694)"
            ]
          },
          "metadata": {},
          "execution_count": 3
        }
      ]
    },
    {
      "cell_type": "markdown",
      "source": [
        "Получили значение $p-value=0.01048\\Rightarrow$ на уровне статистической значимости $\\alpha=0.05$  отвергаем нулевую гипотезу.  Т.е. средний рост футболистов, хоккеистов и штангистоа различен.  \n",
        "При этом на уровне значимости $\\alpha=0.01$ нулевую гипотезу отвергнуть не можем."
      ],
      "metadata": {
        "id": "HDfqn_3Sa2Pd"
      }
    }
  ]
}